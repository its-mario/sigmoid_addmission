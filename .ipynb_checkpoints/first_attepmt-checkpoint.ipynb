{
 "cells": [
  {
   "cell_type": "markdown",
   "id": "64910324-e228-4d9e-9517-a01b6ad69c43",
   "metadata": {},
   "source": [
    "# First attempt Project Sigmoid\n",
    "### Healthcare Diabetes\n",
    "_project started: 02.08.2024_\n",
    "\n",
    "\n",
    "> I don't have any idea how should i do this. "
   ]
  },
  {
   "cell_type": "markdown",
   "id": "9bd8d560-7c75-4039-91b5-bd5e55ccecf9",
   "metadata": {},
   "source": [
    "#### Thinkinig process\n",
    "\n",
    "Task: **To train a model that will be able to predict Diabetes**\n",
    "A simple google search and wikipedia gives this:\n",
    "[Diabetes](https://www.wikiwand.com/en/Diabetes)\n",
    "    \n",
    "> Diabetes mellitus, often known simply as diabetes, is a group of common endocrine diseases characterized by sustained high blood sugar levels. Diabetes is due to either the pancreas not producing enough insulin, or the cells of the body becoming unresponsive to the hormone's effects. Classic symptoms include thirst, polyuria, weight loss, and blurred vision. If left untreated, the disease can lead to various health complications, including disorders of the cardiovascular system, eye, kidney, and nerves.\n",
    "\n",
    "some characteristics:\n",
    "- endocrine diseases\n",
    "- high blood sugar\n",
    "- not producing enough insulin\n",
    "- cells of the body becoming unresponsive to insuline\n",
    "\n",
    "symptoms:\n",
    "- thirst\n",
    "- polyuria (peeing a lot >=2.5L a day)\n",
    "- weight loss\n",
    "- blurred vision\n",
    "\n",
    "consequences:\n",
    "- cardiovascular system disorders\n",
    "- eye\n",
    "- kidney\n",
    "- nerves\n",
    "\n",
    "The goal is to find a direct correlation between some data set and the probility of having diabets\n",
    "\n",
    "###### Provided Data\n",
    "1. Id: Unique identifier for each data entry.\n",
    "2. Pregnancies: Number of times pregnant.\n",
    "3. Glucose: Plasma glucose concentration over 2 hours in an oral glucose tolerance test.\n",
    "4. BloodPressure: Diastolic blood pressure (mm Hg).\n",
    "5. SkinThickness: Triceps skinfold thickness (mm).\n",
    "6. Insulin: 2-Hour serum insulin (mu U/ml).\n",
    "7. BMI: Body mass index (weight in kg / height in m^2).\n",
    "8. DiabetesPedigreeFunction: Diabetes pedigree function, a genetic score of diabetes.\n",
    "9. Age: Age in years.\n",
    "10. Outcome: Binary classification indicating the presence (1) or absence (0) of diabetes.\n",
    "\n",
    "###### Analyzing dataset:\n",
    "1. id - don't influence on final result (should not be included in training data)\n",
    "2. pregnancie\n",
    "\n",
    "> Does somehow pregnancy disturb endocrine system ?\n",
    "> Yes it does.\n",
    "\n",
    "  [nursingtimes.net](https://www.nursingtimes.net/clinical-archive/womens-health/pregnancy-5-effects-on-the-endocrine-nervous-and-reproductive-systems-02-01-2024/)\n",
    "  > Gestational diabetes (GD)\n",
    "  > GD is a transitory condition characterised by chronic hyperglycaemia in pregnancy, which usually resolves following delivery. In the UK, GD reportedly affects around 1 in 20 pregnancies, with major risk factors including being overweight/obese, having GD or a large baby (4.5kg/10lb or more) in a previous pregnancy, being of Black or African Caribbean, Asian or Middle Eastern heritage and increasing age (Diabetes UK, nda).\n",
    "\n",
    "conclusion pregnancie could be a factor\n",
    "\n",
    "3. glucose (its intuitive)\n",
    "4. bloodpresure\n",
    "   > Does diabetes influence bloodpreasure?\n",
    "   > Yes it does.\n",
    "\n",
    "   [www.nyp.org](https://www.nyp.org/diabetes-and-endocrinology/diabetes-resource-center/diabetes-and-hypertension)\n",
    "   >Diabetes causes damage by scarring the kidneys, which in turn leads to salt and water retention, which in turn raises blood pressure.\n",
    "5. skin thickness\n",
    "   > Does diabetes influence skinthickness ?\n",
    "   > Yes it does.\n",
    "\n",
    "    [www.researchgate.net](https://www.researchgate.net/publication/343418223_Skin_Thickness_can_Predict_the_Progress_of_Diabetes_Type_2_A_New_Medical_Hypothesis)\n",
    "   > Diabetes mellitus induces alterations in the metabolism of the macromolecules present in the intercellular matrices and particularly in the basement membranes. These contribute to the morphological changes characteristic of the disease : basement membrane thickening, skin thickening and induration.\n",
    "6. insulin (its intuitive)\n",
    "7. body mass (its intuitive)\n",
    "8. DiabetesPedigreeFunction (i guess its have a importance :) )\n",
    "9. Age\n",
    "    > ages also correlate with the presence of diabetes\n",
    "   [www.researchgate.net](https://www.researchgate.net/figure/Prevalence-of-diabetes-specified-by-age-groups-and-sex_fig1_280707224)\n",
    "    \n",
    "   ![correlation of age and diabetes](https://www.researchgate.net/profile/Kamal-Gholipour/publication/280707224/figure/fig1/AS:284502246084613@1444842029705/Prevalence-of-diabetes-specified-by-age-groups-and-sex.png)\n",
    "\n",
    "10. and the result"
   ]
  },
  {
   "cell_type": "markdown",
   "id": "fd04df56-9d1a-4c3c-b488-c9cee4117348",
   "metadata": {},
   "source": [
    "> to be hones i don't have any idea of how to do that.\n",
    "> I asume this is a classification problem.\n",
    "> I also don't know what "
   ]
  },
  {
   "cell_type": "code",
   "execution_count": 5,
   "id": "a176b647-8ae9-44f6-a89d-f1ffb94bed97",
   "metadata": {},
   "outputs": [],
   "source": [
    "import numpy as np"
   ]
  },
  {
   "cell_type": "code",
   "execution_count": 12,
   "id": "c569172a-3d59-4efe-844f-79cf5e026bf3",
   "metadata": {
    "scrolled": true
   },
   "outputs": [
    {
     "name": "stdout",
     "output_type": "stream",
     "text": [
      "['6', '148', '72', '35', '0', '33.6', '0.627', '50', '1']\n",
      "['1', '85', '66', '29', '0', '26.6', '0.351', '31', '0']\n",
      "['8', '183', '64', '0', '0', '23.3', '0.672', '32', '1']\n",
      "['1', '89', '66', '23', '94', '28.1', '0.167', '21', '0']\n",
      "['0', '137', '40', '35', '168', '43.1', '2.288', '33', '1']\n"
     ]
    }
   ],
   "source": [
    "#Load data\n",
    "import csv\n",
    "\n",
    "with open('Healthcare-Diabetes.csv', newline='') as csvfile:\n",
    "    spamreader = csv.reader(csvfile, delimiter=',')\n",
    "    rawData = []\n",
    "    for i, row in enumerate(spamreader):\n",
    "        if (i == 0): continue # remove the column names\n",
    "        rawData.append(row[1:])\n",
    "        \n",
    "    for j in range(5):\n",
    "        print(rawData[j])\n",
    "    "
   ]
  },
  {
   "cell_type": "code",
   "execution_count": null,
   "id": "e6b1bfae-516b-43f0-b5b1-5b356ff8fa32",
   "metadata": {},
   "outputs": [],
   "source": []
  }
 ],
 "metadata": {
  "kernelspec": {
   "display_name": "Python 3 (ipykernel)",
   "language": "python",
   "name": "python3"
  },
  "language_info": {
   "codemirror_mode": {
    "name": "ipython",
    "version": 3
   },
   "file_extension": ".py",
   "mimetype": "text/x-python",
   "name": "python",
   "nbconvert_exporter": "python",
   "pygments_lexer": "ipython3",
   "version": "3.12.4"
  }
 },
 "nbformat": 4,
 "nbformat_minor": 5
}
